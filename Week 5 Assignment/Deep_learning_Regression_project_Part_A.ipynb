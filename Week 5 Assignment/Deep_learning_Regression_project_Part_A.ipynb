{
 "cells": [
  {
   "cell_type": "markdown",
   "metadata": {
    "colab_type": "text",
    "id": "3xtK-x3iX6AL"
   },
   "source": [
    "# Building a Regression Model using Keras"
   ]
  },
  {
   "cell_type": "markdown",
   "metadata": {
    "colab_type": "text",
    "id": "6wogplz2X6AS"
   },
   "source": [
    "### Data cleaning and Preprocessing"
   ]
  },
  {
   "cell_type": "markdown",
   "metadata": {
    "colab_type": "text",
    "id": "wfWnH8CfX6AY"
   },
   "source": [
    "Importing Libraries"
   ]
  },
  {
   "cell_type": "code",
   "execution_count": 1,
   "metadata": {
    "colab": {},
    "colab_type": "code",
    "id": "enFPvYUJX6Ac"
   },
   "outputs": [],
   "source": [
    "import numpy as np\n",
    "import pandas as pd"
   ]
  },
  {
   "cell_type": "code",
   "execution_count": 2,
   "metadata": {
    "colab": {
     "base_uri": "https://localhost:8080/",
     "height": 206
    },
    "colab_type": "code",
    "id": "c_pLa3NWX6A4",
    "outputId": "25c9d353-3527-42a9-8404-add30840ee05"
   },
   "outputs": [
    {
     "data": {
      "text/html": [
       "<div>\n",
       "<style scoped>\n",
       "    .dataframe tbody tr th:only-of-type {\n",
       "        vertical-align: middle;\n",
       "    }\n",
       "\n",
       "    .dataframe tbody tr th {\n",
       "        vertical-align: top;\n",
       "    }\n",
       "\n",
       "    .dataframe thead th {\n",
       "        text-align: right;\n",
       "    }\n",
       "</style>\n",
       "<table border=\"1\" class=\"dataframe\">\n",
       "  <thead>\n",
       "    <tr style=\"text-align: right;\">\n",
       "      <th></th>\n",
       "      <th>Cement</th>\n",
       "      <th>Blast Furnace Slag</th>\n",
       "      <th>Fly Ash</th>\n",
       "      <th>Water</th>\n",
       "      <th>Superplasticizer</th>\n",
       "      <th>Coarse Aggregate</th>\n",
       "      <th>Fine Aggregate</th>\n",
       "      <th>Age</th>\n",
       "      <th>Strength</th>\n",
       "    </tr>\n",
       "  </thead>\n",
       "  <tbody>\n",
       "    <tr>\n",
       "      <th>0</th>\n",
       "      <td>540.0</td>\n",
       "      <td>0.0</td>\n",
       "      <td>0.0</td>\n",
       "      <td>162.0</td>\n",
       "      <td>2.5</td>\n",
       "      <td>1040.0</td>\n",
       "      <td>676.0</td>\n",
       "      <td>28</td>\n",
       "      <td>79.99</td>\n",
       "    </tr>\n",
       "    <tr>\n",
       "      <th>1</th>\n",
       "      <td>540.0</td>\n",
       "      <td>0.0</td>\n",
       "      <td>0.0</td>\n",
       "      <td>162.0</td>\n",
       "      <td>2.5</td>\n",
       "      <td>1055.0</td>\n",
       "      <td>676.0</td>\n",
       "      <td>28</td>\n",
       "      <td>61.89</td>\n",
       "    </tr>\n",
       "    <tr>\n",
       "      <th>2</th>\n",
       "      <td>332.5</td>\n",
       "      <td>142.5</td>\n",
       "      <td>0.0</td>\n",
       "      <td>228.0</td>\n",
       "      <td>0.0</td>\n",
       "      <td>932.0</td>\n",
       "      <td>594.0</td>\n",
       "      <td>270</td>\n",
       "      <td>40.27</td>\n",
       "    </tr>\n",
       "    <tr>\n",
       "      <th>3</th>\n",
       "      <td>332.5</td>\n",
       "      <td>142.5</td>\n",
       "      <td>0.0</td>\n",
       "      <td>228.0</td>\n",
       "      <td>0.0</td>\n",
       "      <td>932.0</td>\n",
       "      <td>594.0</td>\n",
       "      <td>365</td>\n",
       "      <td>41.05</td>\n",
       "    </tr>\n",
       "    <tr>\n",
       "      <th>4</th>\n",
       "      <td>198.6</td>\n",
       "      <td>132.4</td>\n",
       "      <td>0.0</td>\n",
       "      <td>192.0</td>\n",
       "      <td>0.0</td>\n",
       "      <td>978.4</td>\n",
       "      <td>825.5</td>\n",
       "      <td>360</td>\n",
       "      <td>44.30</td>\n",
       "    </tr>\n",
       "  </tbody>\n",
       "</table>\n",
       "</div>"
      ],
      "text/plain": [
       "   Cement  Blast Furnace Slag  Fly Ash  ...  Fine Aggregate  Age  Strength\n",
       "0   540.0                 0.0      0.0  ...           676.0   28     79.99\n",
       "1   540.0                 0.0      0.0  ...           676.0   28     61.89\n",
       "2   332.5               142.5      0.0  ...           594.0  270     40.27\n",
       "3   332.5               142.5      0.0  ...           594.0  365     41.05\n",
       "4   198.6               132.4      0.0  ...           825.5  360     44.30\n",
       "\n",
       "[5 rows x 9 columns]"
      ]
     },
     "execution_count": 2,
     "metadata": {
      "tags": []
     },
     "output_type": "execute_result"
    }
   ],
   "source": [
    "df = pd.read_csv(\"concrete_data.csv\")\n",
    "\n",
    "#let's show the dataframe\n",
    "df.head()"
   ]
  },
  {
   "cell_type": "markdown",
   "metadata": {
    "colab_type": "text",
    "id": "hK69qqOfX6BO"
   },
   "source": [
    "Checking dimensions of data"
   ]
  },
  {
   "cell_type": "code",
   "execution_count": 3,
   "metadata": {
    "colab": {
     "base_uri": "https://localhost:8080/",
     "height": 35
    },
    "colab_type": "code",
    "id": "dwNIOjJbX6BU",
    "outputId": "46c3ae77-dd0c-4102-c683-6d3205fe81f1"
   },
   "outputs": [
    {
     "data": {
      "text/plain": [
       "(1030, 9)"
      ]
     },
     "execution_count": 3,
     "metadata": {
      "tags": []
     },
     "output_type": "execute_result"
    }
   ],
   "source": [
    "df.shape"
   ]
  },
  {
   "cell_type": "markdown",
   "metadata": {
    "colab_type": "text",
    "id": "N0xunDd7X6Bn"
   },
   "source": [
    "let's see satestical summary of the data"
   ]
  },
  {
   "cell_type": "code",
   "execution_count": 4,
   "metadata": {
    "colab": {
     "base_uri": "https://localhost:8080/",
     "height": 355
    },
    "colab_type": "code",
    "id": "gndsRUUfX6Br",
    "outputId": "3a4f8c89-34a3-4e27-8dd1-8b5f09285e51"
   },
   "outputs": [
    {
     "data": {
      "text/html": [
       "<div>\n",
       "<style scoped>\n",
       "    .dataframe tbody tr th:only-of-type {\n",
       "        vertical-align: middle;\n",
       "    }\n",
       "\n",
       "    .dataframe tbody tr th {\n",
       "        vertical-align: top;\n",
       "    }\n",
       "\n",
       "    .dataframe thead th {\n",
       "        text-align: right;\n",
       "    }\n",
       "</style>\n",
       "<table border=\"1\" class=\"dataframe\">\n",
       "  <thead>\n",
       "    <tr style=\"text-align: right;\">\n",
       "      <th></th>\n",
       "      <th>Cement</th>\n",
       "      <th>Blast Furnace Slag</th>\n",
       "      <th>Fly Ash</th>\n",
       "      <th>Water</th>\n",
       "      <th>Superplasticizer</th>\n",
       "      <th>Coarse Aggregate</th>\n",
       "      <th>Fine Aggregate</th>\n",
       "      <th>Age</th>\n",
       "      <th>Strength</th>\n",
       "    </tr>\n",
       "  </thead>\n",
       "  <tbody>\n",
       "    <tr>\n",
       "      <th>count</th>\n",
       "      <td>1030.000000</td>\n",
       "      <td>1030.000000</td>\n",
       "      <td>1030.000000</td>\n",
       "      <td>1030.000000</td>\n",
       "      <td>1030.000000</td>\n",
       "      <td>1030.000000</td>\n",
       "      <td>1030.000000</td>\n",
       "      <td>1030.000000</td>\n",
       "      <td>1030.000000</td>\n",
       "    </tr>\n",
       "    <tr>\n",
       "      <th>mean</th>\n",
       "      <td>281.167864</td>\n",
       "      <td>73.895825</td>\n",
       "      <td>54.188350</td>\n",
       "      <td>181.567282</td>\n",
       "      <td>6.204660</td>\n",
       "      <td>972.918932</td>\n",
       "      <td>773.580485</td>\n",
       "      <td>45.662136</td>\n",
       "      <td>35.817961</td>\n",
       "    </tr>\n",
       "    <tr>\n",
       "      <th>std</th>\n",
       "      <td>104.506364</td>\n",
       "      <td>86.279342</td>\n",
       "      <td>63.997004</td>\n",
       "      <td>21.354219</td>\n",
       "      <td>5.973841</td>\n",
       "      <td>77.753954</td>\n",
       "      <td>80.175980</td>\n",
       "      <td>63.169912</td>\n",
       "      <td>16.705742</td>\n",
       "    </tr>\n",
       "    <tr>\n",
       "      <th>min</th>\n",
       "      <td>102.000000</td>\n",
       "      <td>0.000000</td>\n",
       "      <td>0.000000</td>\n",
       "      <td>121.800000</td>\n",
       "      <td>0.000000</td>\n",
       "      <td>801.000000</td>\n",
       "      <td>594.000000</td>\n",
       "      <td>1.000000</td>\n",
       "      <td>2.330000</td>\n",
       "    </tr>\n",
       "    <tr>\n",
       "      <th>25%</th>\n",
       "      <td>192.375000</td>\n",
       "      <td>0.000000</td>\n",
       "      <td>0.000000</td>\n",
       "      <td>164.900000</td>\n",
       "      <td>0.000000</td>\n",
       "      <td>932.000000</td>\n",
       "      <td>730.950000</td>\n",
       "      <td>7.000000</td>\n",
       "      <td>23.710000</td>\n",
       "    </tr>\n",
       "    <tr>\n",
       "      <th>50%</th>\n",
       "      <td>272.900000</td>\n",
       "      <td>22.000000</td>\n",
       "      <td>0.000000</td>\n",
       "      <td>185.000000</td>\n",
       "      <td>6.400000</td>\n",
       "      <td>968.000000</td>\n",
       "      <td>779.500000</td>\n",
       "      <td>28.000000</td>\n",
       "      <td>34.445000</td>\n",
       "    </tr>\n",
       "    <tr>\n",
       "      <th>75%</th>\n",
       "      <td>350.000000</td>\n",
       "      <td>142.950000</td>\n",
       "      <td>118.300000</td>\n",
       "      <td>192.000000</td>\n",
       "      <td>10.200000</td>\n",
       "      <td>1029.400000</td>\n",
       "      <td>824.000000</td>\n",
       "      <td>56.000000</td>\n",
       "      <td>46.135000</td>\n",
       "    </tr>\n",
       "    <tr>\n",
       "      <th>max</th>\n",
       "      <td>540.000000</td>\n",
       "      <td>359.400000</td>\n",
       "      <td>200.100000</td>\n",
       "      <td>247.000000</td>\n",
       "      <td>32.200000</td>\n",
       "      <td>1145.000000</td>\n",
       "      <td>992.600000</td>\n",
       "      <td>365.000000</td>\n",
       "      <td>82.600000</td>\n",
       "    </tr>\n",
       "  </tbody>\n",
       "</table>\n",
       "</div>"
      ],
      "text/plain": [
       "            Cement  Blast Furnace Slag  ...          Age     Strength\n",
       "count  1030.000000         1030.000000  ...  1030.000000  1030.000000\n",
       "mean    281.167864           73.895825  ...    45.662136    35.817961\n",
       "std     104.506364           86.279342  ...    63.169912    16.705742\n",
       "min     102.000000            0.000000  ...     1.000000     2.330000\n",
       "25%     192.375000            0.000000  ...     7.000000    23.710000\n",
       "50%     272.900000           22.000000  ...    28.000000    34.445000\n",
       "75%     350.000000          142.950000  ...    56.000000    46.135000\n",
       "max     540.000000          359.400000  ...   365.000000    82.600000\n",
       "\n",
       "[8 rows x 9 columns]"
      ]
     },
     "execution_count": 4,
     "metadata": {
      "tags": []
     },
     "output_type": "execute_result"
    }
   ],
   "source": [
    "df.describe()"
   ]
  },
  {
   "cell_type": "markdown",
   "metadata": {
    "colab_type": "text",
    "id": "yef6O3DsX6B_"
   },
   "source": [
    "Checking for null values"
   ]
  },
  {
   "cell_type": "code",
   "execution_count": 5,
   "metadata": {
    "colab": {
     "base_uri": "https://localhost:8080/",
     "height": 196
    },
    "colab_type": "code",
    "id": "qDrDOuqDX6CJ",
    "outputId": "a934a47d-5a85-4670-deaf-cd5fd5064fbc"
   },
   "outputs": [
    {
     "data": {
      "text/plain": [
       "Cement                0\n",
       "Blast Furnace Slag    0\n",
       "Fly Ash               0\n",
       "Water                 0\n",
       "Superplasticizer      0\n",
       "Coarse Aggregate      0\n",
       "Fine Aggregate        0\n",
       "Age                   0\n",
       "Strength              0\n",
       "dtype: int64"
      ]
     },
     "execution_count": 5,
     "metadata": {
      "tags": []
     },
     "output_type": "execute_result"
    }
   ],
   "source": [
    "\n",
    "df.isnull().sum()"
   ]
  },
  {
   "cell_type": "markdown",
   "metadata": {
    "colab_type": "text",
    "id": "92scgTktX6Cd"
   },
   "source": [
    "This shows there are no null values in the dataframe. Now let's seprate columns for predictors and target\n",
    "dataframes."
   ]
  },
  {
   "cell_type": "code",
   "execution_count": 6,
   "metadata": {
    "colab": {
     "base_uri": "https://localhost:8080/",
     "height": 206
    },
    "colab_type": "code",
    "id": "_ADTc5ILX6Cf",
    "outputId": "cac67eae-80cf-4564-b8fb-b791320bd045"
   },
   "outputs": [
    {
     "data": {
      "text/html": [
       "<div>\n",
       "<style scoped>\n",
       "    .dataframe tbody tr th:only-of-type {\n",
       "        vertical-align: middle;\n",
       "    }\n",
       "\n",
       "    .dataframe tbody tr th {\n",
       "        vertical-align: top;\n",
       "    }\n",
       "\n",
       "    .dataframe thead th {\n",
       "        text-align: right;\n",
       "    }\n",
       "</style>\n",
       "<table border=\"1\" class=\"dataframe\">\n",
       "  <thead>\n",
       "    <tr style=\"text-align: right;\">\n",
       "      <th></th>\n",
       "      <th>Cement</th>\n",
       "      <th>Blast Furnace Slag</th>\n",
       "      <th>Fly Ash</th>\n",
       "      <th>Water</th>\n",
       "      <th>Superplasticizer</th>\n",
       "      <th>Coarse Aggregate</th>\n",
       "      <th>Fine Aggregate</th>\n",
       "      <th>Age</th>\n",
       "    </tr>\n",
       "  </thead>\n",
       "  <tbody>\n",
       "    <tr>\n",
       "      <th>0</th>\n",
       "      <td>540.0</td>\n",
       "      <td>0.0</td>\n",
       "      <td>0.0</td>\n",
       "      <td>162.0</td>\n",
       "      <td>2.5</td>\n",
       "      <td>1040.0</td>\n",
       "      <td>676.0</td>\n",
       "      <td>28</td>\n",
       "    </tr>\n",
       "    <tr>\n",
       "      <th>1</th>\n",
       "      <td>540.0</td>\n",
       "      <td>0.0</td>\n",
       "      <td>0.0</td>\n",
       "      <td>162.0</td>\n",
       "      <td>2.5</td>\n",
       "      <td>1055.0</td>\n",
       "      <td>676.0</td>\n",
       "      <td>28</td>\n",
       "    </tr>\n",
       "    <tr>\n",
       "      <th>2</th>\n",
       "      <td>332.5</td>\n",
       "      <td>142.5</td>\n",
       "      <td>0.0</td>\n",
       "      <td>228.0</td>\n",
       "      <td>0.0</td>\n",
       "      <td>932.0</td>\n",
       "      <td>594.0</td>\n",
       "      <td>270</td>\n",
       "    </tr>\n",
       "    <tr>\n",
       "      <th>3</th>\n",
       "      <td>332.5</td>\n",
       "      <td>142.5</td>\n",
       "      <td>0.0</td>\n",
       "      <td>228.0</td>\n",
       "      <td>0.0</td>\n",
       "      <td>932.0</td>\n",
       "      <td>594.0</td>\n",
       "      <td>365</td>\n",
       "    </tr>\n",
       "    <tr>\n",
       "      <th>4</th>\n",
       "      <td>198.6</td>\n",
       "      <td>132.4</td>\n",
       "      <td>0.0</td>\n",
       "      <td>192.0</td>\n",
       "      <td>0.0</td>\n",
       "      <td>978.4</td>\n",
       "      <td>825.5</td>\n",
       "      <td>360</td>\n",
       "    </tr>\n",
       "  </tbody>\n",
       "</table>\n",
       "</div>"
      ],
      "text/plain": [
       "   Cement  Blast Furnace Slag  Fly Ash  ...  Coarse Aggregate  Fine Aggregate  Age\n",
       "0   540.0                 0.0      0.0  ...            1040.0           676.0   28\n",
       "1   540.0                 0.0      0.0  ...            1055.0           676.0   28\n",
       "2   332.5               142.5      0.0  ...             932.0           594.0  270\n",
       "3   332.5               142.5      0.0  ...             932.0           594.0  365\n",
       "4   198.6               132.4      0.0  ...             978.4           825.5  360\n",
       "\n",
       "[5 rows x 8 columns]"
      ]
     },
     "execution_count": 6,
     "metadata": {
      "tags": []
     },
     "output_type": "execute_result"
    }
   ],
   "source": [
    "predict_columns = df.columns\n",
    "x_data = df[predict_columns[df.columns != 'Strength']]\n",
    "\n",
    "#let's see the predict data\n",
    "x_data.head()"
   ]
  },
  {
   "cell_type": "code",
   "execution_count": 7,
   "metadata": {
    "colab": {
     "base_uri": "https://localhost:8080/",
     "height": 124
    },
    "colab_type": "code",
    "id": "60akT0InX6Cs",
    "outputId": "755b4ce7-9c94-49af-f7a8-933a7409f54c"
   },
   "outputs": [
    {
     "data": {
      "text/plain": [
       "0    79.99\n",
       "1    61.89\n",
       "2    40.27\n",
       "3    41.05\n",
       "4    44.30\n",
       "Name: Strength, dtype: float64"
      ]
     },
     "execution_count": 7,
     "metadata": {
      "tags": []
     },
     "output_type": "execute_result"
    }
   ],
   "source": [
    "y_data = df['Strength']\n",
    "\n",
    "y_data.head()"
   ]
  },
  {
   "cell_type": "markdown",
   "metadata": {
    "colab_type": "text",
    "id": "VwagOZXcX6DB"
   },
   "source": [
    "Now the x and y data is ready let's split the data into training and testing data. For this we will use train_test_split of sci-kit learn module"
   ]
  },
  {
   "cell_type": "code",
   "execution_count": 8,
   "metadata": {
    "colab": {},
    "colab_type": "code",
    "id": "RY0FgcQgX6DF"
   },
   "outputs": [],
   "source": [
    "#importing the module\n",
    "from sklearn.model_selection import train_test_split\n",
    "\n",
    "def data_split(x_data,y_data):\n",
    "    x_train, x_test, y_train, y_test = train_test_split(x_data,y_data, test_size = 0.3, random_state = 1)\n",
    "    return (x_train,x_test,y_train,y_test)\n",
    "#let's see the shape of training and testing data\n",
    "#print(\"training data: \",x_train.shape, y_train.shape)\n",
    "#print(\"testing data: \",x_test.shape,y_test.shape)"
   ]
  },
  {
   "cell_type": "markdown",
   "metadata": {
    "colab_type": "text",
    "id": "JNtsKls_X6Da"
   },
   "source": [
    "### Building the Model"
   ]
  },
  {
   "cell_type": "markdown",
   "metadata": {
    "colab_type": "text",
    "id": "ZXuPopOUX6De",
    "jupyter": {
     "source_hidden": true
    }
   },
   "source": [
    "Importing Keras module"
   ]
  },
  {
   "cell_type": "code",
   "execution_count": 9,
   "metadata": {
    "colab": {},
    "colab_type": "code",
    "id": "69q35YqUX6Dh"
   },
   "outputs": [],
   "source": [
    "import keras"
   ]
  },
  {
   "cell_type": "code",
   "execution_count": 10,
   "metadata": {
    "colab": {},
    "colab_type": "code",
    "id": "aNykUivkX6Dy"
   },
   "outputs": [],
   "source": [
    "#importing functions\n",
    "from keras.models import Sequential\n",
    "from keras.layers import Dense\n",
    "from sklearn.metrics import mean_squared_error\n",
    "\n",
    "#Building Nueral Network model\n",
    "\n",
    "def reg_model():\n",
    "    model = Sequential()\n",
    "\n",
    "    n_cols = x_train.shape[1]\n",
    "\n",
    "    model.add(Dense(10,activation ='relu', input_shape=(n_cols,)))\n",
    "    model.add(Dense(1))\n",
    "    model.compile(optimizer='adam',loss='mean_squared_error')\n",
    "    return model"
   ]
  },
  {
   "cell_type": "markdown",
   "metadata": {
    "colab_type": "text",
    "id": "oBsZBgM_X6EA"
   },
   "source": [
    "Training the model"
   ]
  },
  {
   "cell_type": "code",
   "execution_count": 11,
   "metadata": {
    "colab": {
     "base_uri": "https://localhost:8080/",
     "height": 1000
    },
    "colab_type": "code",
    "id": "I7W9YEm4X6ED",
    "outputId": "9c02a1ed-4fce-4e9b-d6a4-c6cc56b6ecf1"
   },
   "outputs": [
    {
     "name": "stdout",
     "output_type": "stream",
     "text": [
      "model running for 1 time\n",
      "122.21848527612622\n",
      "model running for 2 time\n",
      "157.99596009961155\n",
      "model running for 3 time\n",
      "317.2813765391262\n",
      "model running for 4 time\n",
      "687.2800809159489\n",
      "model running for 5 time\n",
      "128.85124071428174\n",
      "model running for 6 time\n",
      "327.742447818412\n",
      "model running for 7 time\n",
      "771.0152451619343\n",
      "model running for 8 time\n",
      "227.76964288956145\n",
      "model running for 9 time\n",
      "191.76653623766902\n",
      "model running for 10 time\n",
      "226.92531252299477\n",
      "model running for 11 time\n",
      "305.1660697738106\n",
      "model running for 12 time\n",
      "163.8296008215652\n",
      "model running for 13 time\n",
      "144.22750113715645\n",
      "model running for 14 time\n",
      "162.70023099153389\n",
      "model running for 15 time\n",
      "128.20637118959257\n",
      "model running for 16 time\n",
      "984.0200383913998\n",
      "model running for 17 time\n",
      "178.7232038500214\n",
      "model running for 18 time\n",
      "2114.5514644915247\n",
      "model running for 19 time\n",
      "111.99387944619879\n",
      "model running for 20 time\n",
      "127.44378079958487\n",
      "model running for 21 time\n",
      "137.5522647283722\n",
      "model running for 22 time\n",
      "242.5761866866437\n",
      "model running for 23 time\n",
      "174.90752758732924\n",
      "model running for 24 time\n",
      "130.07993410412217\n",
      "model running for 25 time\n",
      "1289.4056989634353\n",
      "model running for 26 time\n",
      "133.26848667761234\n",
      "model running for 27 time\n",
      "186.30299202009235\n",
      "model running for 28 time\n",
      "127.26791190536733\n",
      "model running for 29 time\n",
      "522.3600478633967\n",
      "model running for 30 time\n",
      "629.8024077226893\n",
      "model running for 31 time\n",
      "177.37394619219225\n",
      "model running for 32 time\n",
      "259.2710578635601\n",
      "model running for 33 time\n",
      "147.56791765754778\n",
      "model running for 34 time\n",
      "172.19334449118318\n",
      "model running for 35 time\n",
      "183.47273789921772\n",
      "model running for 36 time\n",
      "460.5273327794603\n",
      "model running for 37 time\n",
      "805.0983713114413\n",
      "model running for 38 time\n",
      "1407.9132278168877\n",
      "model running for 39 time\n",
      "396.988765353232\n",
      "model running for 40 time\n",
      "1737.801145058647\n",
      "model running for 41 time\n",
      "504.0956982402583\n",
      "model running for 42 time\n",
      "118.52126901324054\n",
      "model running for 43 time\n",
      "121.23029887900941\n",
      "model running for 44 time\n",
      "156.15909887904522\n",
      "model running for 45 time\n",
      "149.97770933637858\n",
      "model running for 46 time\n",
      "148.37343627189426\n",
      "model running for 47 time\n",
      "129.9226880019671\n",
      "model running for 48 time\n",
      "184.97424970649945\n",
      "model running for 49 time\n",
      "111.37266219197042\n",
      "model running for 50 time\n",
      "504.56642074161886\n"
     ]
    },
    {
     "data": {
      "text/plain": [
       "array([ 122.21848528,  157.9959601 ,  317.28137654,  687.28008092,\n",
       "        128.85124071,  327.74244782,  771.01524516,  227.76964289,\n",
       "        191.76653624,  226.92531252,  305.16606977,  163.82960082,\n",
       "        144.22750114,  162.70023099,  128.20637119,  984.02003839,\n",
       "        178.72320385, 2114.55146449,  111.99387945,  127.4437808 ,\n",
       "        137.55226473,  242.57618669,  174.90752759,  130.0799341 ,\n",
       "       1289.40569896,  133.26848668,  186.30299202,  127.26791191,\n",
       "        522.36004786,  629.80240772,  177.37394619,  259.27105786,\n",
       "        147.56791766,  172.19334449,  183.4727379 ,  460.52733278,\n",
       "        805.09837131, 1407.91322782,  396.98876535, 1737.80114506,\n",
       "        504.09569824,  118.52126901,  121.23029888,  156.15909888,\n",
       "        149.97770934,  148.37343627,  129.922688  ,  184.97424971,\n",
       "        111.37266219,  504.56642074])"
      ]
     },
     "execution_count": 11,
     "metadata": {
      "tags": []
     },
     "output_type": "execute_result"
    }
   ],
   "source": [
    "SME = np.zeros(50)\n",
    "\n",
    "#loop for running model 50 times\n",
    "for i in range(50):\n",
    "    print(\"model running for {} time\".format(i+1))\n",
    "    #spliting data\n",
    "    x_train,x_test,y_train,y_test = data_split(x_data,y_data)\n",
    "    #creating network model instance\n",
    "    model = reg_model()\n",
    "    model.fit(x_train,y_train,epochs = 50,verbose = 0)\n",
    "    y_predict = model.predict(x_test)\n",
    "    SME[i] = mean_squared_error(y_test,y_predict)\n",
    "    print(SME[i])\n",
    "\n",
    "SME"
   ]
  },
  {
   "cell_type": "markdown",
   "metadata": {
    "colab_type": "text",
    "id": "t0QsIDF-X6EV"
   },
   "source": [
    "Let's find out the mean and standard deviation of the mean_squared_error"
   ]
  },
  {
   "cell_type": "code",
   "execution_count": 14,
   "metadata": {
    "colab": {
     "base_uri": "https://localhost:8080/",
     "height": 71
    },
    "colab_type": "code",
    "id": "gbFdHnz7X6EX",
    "outputId": "fe9ab5f0-31f8-494e-e35f-4fbae815df38"
   },
   "outputs": [
    {
     "name": "stdout",
     "output_type": "stream",
     "text": [
      "Error of the model run 50 times\n",
      "Mean of Squared Mean Error calculated 50 times:  380.6126661002473 \n",
      "Standard Deviation of Squared Mean Error calculated 50 times:  431.55417510806063\n"
     ]
    }
   ],
   "source": [
    "SME_mean = SME.sum()/SME.shape[0]\n",
    "SME_mean\n",
    "\n",
    "SME_std = np.sqrt(pow((SME -np.array(SME_mean)),2).sum()/SME.shape[0])\n",
    "print(\"Error of the model run 50 times\")\n",
    "print(\"Mean of Squared Mean Error calculated 50 times: \",SME_mean,\"\\nStandard Deviation of Squared Mean Error calculated 50 times: \",SME_std)"
   ]
  }
 ],
 "metadata": {
  "colab": {
   "collapsed_sections": [],
   "name": "Deep learning Regression project Part - A.ipynb",
   "provenance": [],
   "toc_visible": true
  },
  "kernelspec": {
   "display_name": "Python 3",
   "language": "python",
   "name": "python3"
  },
  "language_info": {
   "codemirror_mode": {
    "name": "ipython",
    "version": 3
   },
   "file_extension": ".py",
   "mimetype": "text/x-python",
   "name": "python",
   "nbconvert_exporter": "python",
   "pygments_lexer": "ipython3",
   "version": "3.7.3"
  }
 },
 "nbformat": 4,
 "nbformat_minor": 1
}
