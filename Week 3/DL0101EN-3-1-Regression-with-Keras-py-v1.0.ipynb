{
 "cells": [
  {
   "cell_type": "markdown",
   "metadata": {
    "button": false,
    "deletable": true,
    "new_sheet": false,
    "run_control": {
     "read_only": false
    }
   },
   "source": [
    "<a href=\"https://cognitiveclass.ai\"><img src = \"https://s3-api.us-geo.objectstorage.softlayer.net/cf-courses-data/CognitiveClass/Logos/organization_logo/organization_logo.png\" width = 400> </a>\n",
    "\n",
    "<h1 align=center><font size = 5>Regression Models with Keras</font></h1>"
   ]
  },
  {
   "cell_type": "markdown",
   "metadata": {
    "button": false,
    "deletable": true,
    "new_sheet": false,
    "run_control": {
     "read_only": false
    }
   },
   "source": [
    "## Introduction"
   ]
  },
  {
   "cell_type": "markdown",
   "metadata": {
    "button": false,
    "deletable": true,
    "new_sheet": false,
    "run_control": {
     "read_only": false
    }
   },
   "source": [
    "As we discussed in the videos, despite the popularity of more powerful libraries such as PyToch and TensorFlow, they are not easy to use and have a steep learning curve. So, for people who are just starting to learn deep learning, there is no better library to use other than the Keras library. \n",
    "\n",
    "Keras is a high-level API for building deep learning models. It has gained favor for its ease of use and syntactic simplicity facilitating fast development. As you will see in this lab and the other labs in this course, building a very complex deep learning network can be achieved with Keras with only few lines of code. You will appreciate Keras even more, once you learn how to build deep models using PyTorch and TensorFlow in the other courses.\n",
    "\n",
    "So, in this lab, you will learn how to use the Keras library to build a regression model."
   ]
  },
  {
   "cell_type": "markdown",
   "metadata": {
    "button": false,
    "deletable": true,
    "new_sheet": false,
    "run_control": {
     "read_only": false
    }
   },
   "source": [
    "## Table of Contents\n",
    "\n",
    "<div class=\"alert alert-block alert-info\" style=\"margin-top: 20px\">\n",
    "\n",
    "<font size = 3>\n",
    "    \n",
    "1. <a href=\"#item31\">Download and Clean Dataset</a>  \n",
    "2. <a href=\"#item32\">Import Keras</a>  \n",
    "3. <a href=\"#item33\">Build a Neural Network</a>  \n",
    "4. <a href=\"#item34\">Train and Test the Network</a>  \n",
    "\n",
    "</font>\n",
    "</div>"
   ]
  },
  {
   "cell_type": "markdown",
   "metadata": {
    "button": false,
    "deletable": true,
    "new_sheet": false,
    "run_control": {
     "read_only": false
    }
   },
   "source": [
    "<a id=\"item31\"></a>"
   ]
  },
  {
   "cell_type": "markdown",
   "metadata": {
    "button": false,
    "deletable": true,
    "new_sheet": false,
    "run_control": {
     "read_only": false
    }
   },
   "source": [
    "## Download and Clean Dataset"
   ]
  },
  {
   "cell_type": "markdown",
   "metadata": {
    "button": false,
    "deletable": true,
    "new_sheet": false,
    "run_control": {
     "read_only": false
    }
   },
   "source": [
    "Let's start by importing the <em>pandas</em> and the Numpy libraries."
   ]
  },
  {
   "cell_type": "code",
   "execution_count": 1,
   "metadata": {
    "button": false,
    "deletable": true,
    "new_sheet": false,
    "run_control": {
     "read_only": false
    }
   },
   "outputs": [],
   "source": [
    "import pandas as pd\n",
    "import numpy as np"
   ]
  },
  {
   "cell_type": "markdown",
   "metadata": {
    "button": false,
    "deletable": true,
    "new_sheet": false,
    "run_control": {
     "read_only": false
    }
   },
   "source": [
    "We will be playing around with the same dataset that we used in the videos.\n",
    "\n",
    "<strong>The dataset is about the compressive strength of different samples of concrete based on the volumes of the different ingredients that were used to make them. Ingredients include:</strong>\n",
    "\n",
    "<strong>1. Cement</strong>\n",
    "\n",
    "<strong>2. Blast Furnace Slag</strong>\n",
    "\n",
    "<strong>3. Fly Ash</strong>\n",
    "\n",
    "<strong>4. Water</strong>\n",
    "\n",
    "<strong>5. Superplasticizer</strong>\n",
    "\n",
    "<strong>6. Coarse Aggregate</strong>\n",
    "\n",
    "<strong>7. Fine Aggregate</strong>"
   ]
  },
  {
   "cell_type": "markdown",
   "metadata": {
    "button": false,
    "deletable": true,
    "new_sheet": false,
    "run_control": {
     "read_only": false
    }
   },
   "source": [
    "Let's download the data and read it into a <em>pandas</em> dataframe."
   ]
  },
  {
   "cell_type": "code",
   "execution_count": 2,
   "metadata": {
    "button": false,
    "deletable": true,
    "new_sheet": false,
    "run_control": {
     "read_only": false
    }
   },
   "outputs": [
    {
     "data": {
      "text/html": [
       "<div>\n",
       "<style scoped>\n",
       "    .dataframe tbody tr th:only-of-type {\n",
       "        vertical-align: middle;\n",
       "    }\n",
       "\n",
       "    .dataframe tbody tr th {\n",
       "        vertical-align: top;\n",
       "    }\n",
       "\n",
       "    .dataframe thead th {\n",
       "        text-align: right;\n",
       "    }\n",
       "</style>\n",
       "<table border=\"1\" class=\"dataframe\">\n",
       "  <thead>\n",
       "    <tr style=\"text-align: right;\">\n",
       "      <th></th>\n",
       "      <th>Cement</th>\n",
       "      <th>Blast Furnace Slag</th>\n",
       "      <th>Fly Ash</th>\n",
       "      <th>Water</th>\n",
       "      <th>Superplasticizer</th>\n",
       "      <th>Coarse Aggregate</th>\n",
       "      <th>Fine Aggregate</th>\n",
       "      <th>Age</th>\n",
       "      <th>Strength</th>\n",
       "    </tr>\n",
       "  </thead>\n",
       "  <tbody>\n",
       "    <tr>\n",
       "      <th>0</th>\n",
       "      <td>540.0</td>\n",
       "      <td>0.0</td>\n",
       "      <td>0.0</td>\n",
       "      <td>162.0</td>\n",
       "      <td>2.5</td>\n",
       "      <td>1040.0</td>\n",
       "      <td>676.0</td>\n",
       "      <td>28</td>\n",
       "      <td>79.99</td>\n",
       "    </tr>\n",
       "    <tr>\n",
       "      <th>1</th>\n",
       "      <td>540.0</td>\n",
       "      <td>0.0</td>\n",
       "      <td>0.0</td>\n",
       "      <td>162.0</td>\n",
       "      <td>2.5</td>\n",
       "      <td>1055.0</td>\n",
       "      <td>676.0</td>\n",
       "      <td>28</td>\n",
       "      <td>61.89</td>\n",
       "    </tr>\n",
       "    <tr>\n",
       "      <th>2</th>\n",
       "      <td>332.5</td>\n",
       "      <td>142.5</td>\n",
       "      <td>0.0</td>\n",
       "      <td>228.0</td>\n",
       "      <td>0.0</td>\n",
       "      <td>932.0</td>\n",
       "      <td>594.0</td>\n",
       "      <td>270</td>\n",
       "      <td>40.27</td>\n",
       "    </tr>\n",
       "    <tr>\n",
       "      <th>3</th>\n",
       "      <td>332.5</td>\n",
       "      <td>142.5</td>\n",
       "      <td>0.0</td>\n",
       "      <td>228.0</td>\n",
       "      <td>0.0</td>\n",
       "      <td>932.0</td>\n",
       "      <td>594.0</td>\n",
       "      <td>365</td>\n",
       "      <td>41.05</td>\n",
       "    </tr>\n",
       "    <tr>\n",
       "      <th>4</th>\n",
       "      <td>198.6</td>\n",
       "      <td>132.4</td>\n",
       "      <td>0.0</td>\n",
       "      <td>192.0</td>\n",
       "      <td>0.0</td>\n",
       "      <td>978.4</td>\n",
       "      <td>825.5</td>\n",
       "      <td>360</td>\n",
       "      <td>44.30</td>\n",
       "    </tr>\n",
       "  </tbody>\n",
       "</table>\n",
       "</div>"
      ],
      "text/plain": [
       "   Cement  Blast Furnace Slag  Fly Ash  Water  Superplasticizer  \\\n",
       "0   540.0                 0.0      0.0  162.0               2.5   \n",
       "1   540.0                 0.0      0.0  162.0               2.5   \n",
       "2   332.5               142.5      0.0  228.0               0.0   \n",
       "3   332.5               142.5      0.0  228.0               0.0   \n",
       "4   198.6               132.4      0.0  192.0               0.0   \n",
       "\n",
       "   Coarse Aggregate  Fine Aggregate  Age  Strength  \n",
       "0            1040.0           676.0   28     79.99  \n",
       "1            1055.0           676.0   28     61.89  \n",
       "2             932.0           594.0  270     40.27  \n",
       "3             932.0           594.0  365     41.05  \n",
       "4             978.4           825.5  360     44.30  "
      ]
     },
     "execution_count": 2,
     "metadata": {},
     "output_type": "execute_result"
    }
   ],
   "source": [
    "concrete_data = pd.read_csv('https://s3-api.us-geo.objectstorage.softlayer.net/cf-courses-data/CognitiveClass/DL0101EN/labs/data/concrete_data.csv')\n",
    "concrete_data.head()"
   ]
  },
  {
   "cell_type": "markdown",
   "metadata": {
    "button": false,
    "deletable": true,
    "new_sheet": false,
    "run_control": {
     "read_only": false
    }
   },
   "source": [
    "So the first concrete sample has 540 cubic meter of cement, 0 cubic meter of blast furnace slag, 0 cubic meter of fly ash, 162 cubic meter of water, 2.5 cubic meter of superplaticizer, 1040 cubic meter of coarse aggregate, 676 cubic meter of fine aggregate. Such a concrete mix which is 28 days old, has a compressive strength of 79.99 MPa. "
   ]
  },
  {
   "cell_type": "markdown",
   "metadata": {
    "button": false,
    "deletable": true,
    "new_sheet": false,
    "run_control": {
     "read_only": false
    }
   },
   "source": [
    "#### Let's check how many data points we have."
   ]
  },
  {
   "cell_type": "code",
   "execution_count": 3,
   "metadata": {
    "button": false,
    "deletable": true,
    "new_sheet": false,
    "run_control": {
     "read_only": false
    }
   },
   "outputs": [
    {
     "data": {
      "text/plain": [
       "(1030, 9)"
      ]
     },
     "execution_count": 3,
     "metadata": {},
     "output_type": "execute_result"
    }
   ],
   "source": [
    "concrete_data.shape"
   ]
  },
  {
   "cell_type": "markdown",
   "metadata": {
    "button": false,
    "deletable": true,
    "new_sheet": false,
    "run_control": {
     "read_only": false
    }
   },
   "source": [
    "So, there are approximately 1000 samples to train our model on. Because of the few samples, we have to be careful not to overfit the training data."
   ]
  },
  {
   "cell_type": "markdown",
   "metadata": {
    "button": false,
    "deletable": true,
    "new_sheet": false,
    "run_control": {
     "read_only": false
    }
   },
   "source": [
    "Let's check the dataset for any missing values."
   ]
  },
  {
   "cell_type": "code",
   "execution_count": 4,
   "metadata": {
    "button": false,
    "deletable": true,
    "new_sheet": false,
    "run_control": {
     "read_only": false
    }
   },
   "outputs": [
    {
     "data": {
      "text/html": [
       "<div>\n",
       "<style scoped>\n",
       "    .dataframe tbody tr th:only-of-type {\n",
       "        vertical-align: middle;\n",
       "    }\n",
       "\n",
       "    .dataframe tbody tr th {\n",
       "        vertical-align: top;\n",
       "    }\n",
       "\n",
       "    .dataframe thead th {\n",
       "        text-align: right;\n",
       "    }\n",
       "</style>\n",
       "<table border=\"1\" class=\"dataframe\">\n",
       "  <thead>\n",
       "    <tr style=\"text-align: right;\">\n",
       "      <th></th>\n",
       "      <th>Cement</th>\n",
       "      <th>Blast Furnace Slag</th>\n",
       "      <th>Fly Ash</th>\n",
       "      <th>Water</th>\n",
       "      <th>Superplasticizer</th>\n",
       "      <th>Coarse Aggregate</th>\n",
       "      <th>Fine Aggregate</th>\n",
       "      <th>Age</th>\n",
       "      <th>Strength</th>\n",
       "    </tr>\n",
       "  </thead>\n",
       "  <tbody>\n",
       "    <tr>\n",
       "      <th>count</th>\n",
       "      <td>1030.000000</td>\n",
       "      <td>1030.000000</td>\n",
       "      <td>1030.000000</td>\n",
       "      <td>1030.000000</td>\n",
       "      <td>1030.000000</td>\n",
       "      <td>1030.000000</td>\n",
       "      <td>1030.000000</td>\n",
       "      <td>1030.000000</td>\n",
       "      <td>1030.000000</td>\n",
       "    </tr>\n",
       "    <tr>\n",
       "      <th>mean</th>\n",
       "      <td>281.167864</td>\n",
       "      <td>73.895825</td>\n",
       "      <td>54.188350</td>\n",
       "      <td>181.567282</td>\n",
       "      <td>6.204660</td>\n",
       "      <td>972.918932</td>\n",
       "      <td>773.580485</td>\n",
       "      <td>45.662136</td>\n",
       "      <td>35.817961</td>\n",
       "    </tr>\n",
       "    <tr>\n",
       "      <th>std</th>\n",
       "      <td>104.506364</td>\n",
       "      <td>86.279342</td>\n",
       "      <td>63.997004</td>\n",
       "      <td>21.354219</td>\n",
       "      <td>5.973841</td>\n",
       "      <td>77.753954</td>\n",
       "      <td>80.175980</td>\n",
       "      <td>63.169912</td>\n",
       "      <td>16.705742</td>\n",
       "    </tr>\n",
       "    <tr>\n",
       "      <th>min</th>\n",
       "      <td>102.000000</td>\n",
       "      <td>0.000000</td>\n",
       "      <td>0.000000</td>\n",
       "      <td>121.800000</td>\n",
       "      <td>0.000000</td>\n",
       "      <td>801.000000</td>\n",
       "      <td>594.000000</td>\n",
       "      <td>1.000000</td>\n",
       "      <td>2.330000</td>\n",
       "    </tr>\n",
       "    <tr>\n",
       "      <th>25%</th>\n",
       "      <td>192.375000</td>\n",
       "      <td>0.000000</td>\n",
       "      <td>0.000000</td>\n",
       "      <td>164.900000</td>\n",
       "      <td>0.000000</td>\n",
       "      <td>932.000000</td>\n",
       "      <td>730.950000</td>\n",
       "      <td>7.000000</td>\n",
       "      <td>23.710000</td>\n",
       "    </tr>\n",
       "    <tr>\n",
       "      <th>50%</th>\n",
       "      <td>272.900000</td>\n",
       "      <td>22.000000</td>\n",
       "      <td>0.000000</td>\n",
       "      <td>185.000000</td>\n",
       "      <td>6.400000</td>\n",
       "      <td>968.000000</td>\n",
       "      <td>779.500000</td>\n",
       "      <td>28.000000</td>\n",
       "      <td>34.445000</td>\n",
       "    </tr>\n",
       "    <tr>\n",
       "      <th>75%</th>\n",
       "      <td>350.000000</td>\n",
       "      <td>142.950000</td>\n",
       "      <td>118.300000</td>\n",
       "      <td>192.000000</td>\n",
       "      <td>10.200000</td>\n",
       "      <td>1029.400000</td>\n",
       "      <td>824.000000</td>\n",
       "      <td>56.000000</td>\n",
       "      <td>46.135000</td>\n",
       "    </tr>\n",
       "    <tr>\n",
       "      <th>max</th>\n",
       "      <td>540.000000</td>\n",
       "      <td>359.400000</td>\n",
       "      <td>200.100000</td>\n",
       "      <td>247.000000</td>\n",
       "      <td>32.200000</td>\n",
       "      <td>1145.000000</td>\n",
       "      <td>992.600000</td>\n",
       "      <td>365.000000</td>\n",
       "      <td>82.600000</td>\n",
       "    </tr>\n",
       "  </tbody>\n",
       "</table>\n",
       "</div>"
      ],
      "text/plain": [
       "            Cement  Blast Furnace Slag      Fly Ash        Water  \\\n",
       "count  1030.000000         1030.000000  1030.000000  1030.000000   \n",
       "mean    281.167864           73.895825    54.188350   181.567282   \n",
       "std     104.506364           86.279342    63.997004    21.354219   \n",
       "min     102.000000            0.000000     0.000000   121.800000   \n",
       "25%     192.375000            0.000000     0.000000   164.900000   \n",
       "50%     272.900000           22.000000     0.000000   185.000000   \n",
       "75%     350.000000          142.950000   118.300000   192.000000   \n",
       "max     540.000000          359.400000   200.100000   247.000000   \n",
       "\n",
       "       Superplasticizer  Coarse Aggregate  Fine Aggregate          Age  \\\n",
       "count       1030.000000       1030.000000     1030.000000  1030.000000   \n",
       "mean           6.204660        972.918932      773.580485    45.662136   \n",
       "std            5.973841         77.753954       80.175980    63.169912   \n",
       "min            0.000000        801.000000      594.000000     1.000000   \n",
       "25%            0.000000        932.000000      730.950000     7.000000   \n",
       "50%            6.400000        968.000000      779.500000    28.000000   \n",
       "75%           10.200000       1029.400000      824.000000    56.000000   \n",
       "max           32.200000       1145.000000      992.600000   365.000000   \n",
       "\n",
       "          Strength  \n",
       "count  1030.000000  \n",
       "mean     35.817961  \n",
       "std      16.705742  \n",
       "min       2.330000  \n",
       "25%      23.710000  \n",
       "50%      34.445000  \n",
       "75%      46.135000  \n",
       "max      82.600000  "
      ]
     },
     "execution_count": 4,
     "metadata": {},
     "output_type": "execute_result"
    }
   ],
   "source": [
    "concrete_data.describe()"
   ]
  },
  {
   "cell_type": "code",
   "execution_count": 5,
   "metadata": {
    "button": false,
    "deletable": true,
    "new_sheet": false,
    "run_control": {
     "read_only": false
    }
   },
   "outputs": [
    {
     "data": {
      "text/plain": [
       "Cement                0\n",
       "Blast Furnace Slag    0\n",
       "Fly Ash               0\n",
       "Water                 0\n",
       "Superplasticizer      0\n",
       "Coarse Aggregate      0\n",
       "Fine Aggregate        0\n",
       "Age                   0\n",
       "Strength              0\n",
       "dtype: int64"
      ]
     },
     "execution_count": 5,
     "metadata": {},
     "output_type": "execute_result"
    }
   ],
   "source": [
    "concrete_data.isnull().sum()"
   ]
  },
  {
   "cell_type": "markdown",
   "metadata": {
    "button": false,
    "deletable": true,
    "new_sheet": false,
    "run_control": {
     "read_only": false
    }
   },
   "source": [
    "The data looks very clean and is ready to be used to build our model."
   ]
  },
  {
   "cell_type": "markdown",
   "metadata": {
    "button": false,
    "deletable": true,
    "new_sheet": false,
    "run_control": {
     "read_only": false
    }
   },
   "source": [
    "#### Split data into predictors and target"
   ]
  },
  {
   "cell_type": "markdown",
   "metadata": {},
   "source": [
    "The target variable in this problem is the concrete sample strength. Therefore, our predictors will be all the other columns."
   ]
  },
  {
   "cell_type": "code",
   "execution_count": 6,
   "metadata": {
    "button": false,
    "deletable": true,
    "new_sheet": false,
    "run_control": {
     "read_only": false
    }
   },
   "outputs": [],
   "source": [
    "concrete_data_columns = concrete_data.columns\n",
    "\n",
    "predictors = concrete_data[concrete_data_columns[concrete_data_columns != 'Strength']] # all columns except Strength\n",
    "target = concrete_data['Strength'] # Strength column"
   ]
  },
  {
   "cell_type": "markdown",
   "metadata": {
    "button": false,
    "deletable": true,
    "new_sheet": false,
    "run_control": {
     "read_only": false
    }
   },
   "source": [
    "<a id=\"item2\"></a>"
   ]
  },
  {
   "cell_type": "markdown",
   "metadata": {
    "button": false,
    "deletable": true,
    "new_sheet": false,
    "run_control": {
     "read_only": false
    }
   },
   "source": [
    "Let's do a quick sanity check of the predictors and the target dataframes."
   ]
  },
  {
   "cell_type": "code",
   "execution_count": 7,
   "metadata": {
    "button": false,
    "deletable": true,
    "new_sheet": false,
    "run_control": {
     "read_only": false
    }
   },
   "outputs": [
    {
     "data": {
      "text/html": [
       "<div>\n",
       "<style scoped>\n",
       "    .dataframe tbody tr th:only-of-type {\n",
       "        vertical-align: middle;\n",
       "    }\n",
       "\n",
       "    .dataframe tbody tr th {\n",
       "        vertical-align: top;\n",
       "    }\n",
       "\n",
       "    .dataframe thead th {\n",
       "        text-align: right;\n",
       "    }\n",
       "</style>\n",
       "<table border=\"1\" class=\"dataframe\">\n",
       "  <thead>\n",
       "    <tr style=\"text-align: right;\">\n",
       "      <th></th>\n",
       "      <th>Cement</th>\n",
       "      <th>Blast Furnace Slag</th>\n",
       "      <th>Fly Ash</th>\n",
       "      <th>Water</th>\n",
       "      <th>Superplasticizer</th>\n",
       "      <th>Coarse Aggregate</th>\n",
       "      <th>Fine Aggregate</th>\n",
       "      <th>Age</th>\n",
       "    </tr>\n",
       "  </thead>\n",
       "  <tbody>\n",
       "    <tr>\n",
       "      <th>0</th>\n",
       "      <td>540.0</td>\n",
       "      <td>0.0</td>\n",
       "      <td>0.0</td>\n",
       "      <td>162.0</td>\n",
       "      <td>2.5</td>\n",
       "      <td>1040.0</td>\n",
       "      <td>676.0</td>\n",
       "      <td>28</td>\n",
       "    </tr>\n",
       "    <tr>\n",
       "      <th>1</th>\n",
       "      <td>540.0</td>\n",
       "      <td>0.0</td>\n",
       "      <td>0.0</td>\n",
       "      <td>162.0</td>\n",
       "      <td>2.5</td>\n",
       "      <td>1055.0</td>\n",
       "      <td>676.0</td>\n",
       "      <td>28</td>\n",
       "    </tr>\n",
       "    <tr>\n",
       "      <th>2</th>\n",
       "      <td>332.5</td>\n",
       "      <td>142.5</td>\n",
       "      <td>0.0</td>\n",
       "      <td>228.0</td>\n",
       "      <td>0.0</td>\n",
       "      <td>932.0</td>\n",
       "      <td>594.0</td>\n",
       "      <td>270</td>\n",
       "    </tr>\n",
       "    <tr>\n",
       "      <th>3</th>\n",
       "      <td>332.5</td>\n",
       "      <td>142.5</td>\n",
       "      <td>0.0</td>\n",
       "      <td>228.0</td>\n",
       "      <td>0.0</td>\n",
       "      <td>932.0</td>\n",
       "      <td>594.0</td>\n",
       "      <td>365</td>\n",
       "    </tr>\n",
       "    <tr>\n",
       "      <th>4</th>\n",
       "      <td>198.6</td>\n",
       "      <td>132.4</td>\n",
       "      <td>0.0</td>\n",
       "      <td>192.0</td>\n",
       "      <td>0.0</td>\n",
       "      <td>978.4</td>\n",
       "      <td>825.5</td>\n",
       "      <td>360</td>\n",
       "    </tr>\n",
       "  </tbody>\n",
       "</table>\n",
       "</div>"
      ],
      "text/plain": [
       "   Cement  Blast Furnace Slag  Fly Ash  Water  Superplasticizer  \\\n",
       "0   540.0                 0.0      0.0  162.0               2.5   \n",
       "1   540.0                 0.0      0.0  162.0               2.5   \n",
       "2   332.5               142.5      0.0  228.0               0.0   \n",
       "3   332.5               142.5      0.0  228.0               0.0   \n",
       "4   198.6               132.4      0.0  192.0               0.0   \n",
       "\n",
       "   Coarse Aggregate  Fine Aggregate  Age  \n",
       "0            1040.0           676.0   28  \n",
       "1            1055.0           676.0   28  \n",
       "2             932.0           594.0  270  \n",
       "3             932.0           594.0  365  \n",
       "4             978.4           825.5  360  "
      ]
     },
     "execution_count": 7,
     "metadata": {},
     "output_type": "execute_result"
    }
   ],
   "source": [
    "predictors.head()"
   ]
  },
  {
   "cell_type": "code",
   "execution_count": 8,
   "metadata": {
    "button": false,
    "deletable": true,
    "new_sheet": false,
    "run_control": {
     "read_only": false
    }
   },
   "outputs": [
    {
     "data": {
      "text/plain": [
       "0    79.99\n",
       "1    61.89\n",
       "2    40.27\n",
       "3    41.05\n",
       "4    44.30\n",
       "Name: Strength, dtype: float64"
      ]
     },
     "execution_count": 8,
     "metadata": {},
     "output_type": "execute_result"
    }
   ],
   "source": [
    "target.head()"
   ]
  },
  {
   "cell_type": "markdown",
   "metadata": {
    "button": false,
    "deletable": true,
    "new_sheet": false,
    "run_control": {
     "read_only": false
    }
   },
   "source": [
    "Finally, the last step is to normalize the data by substracting the mean and dividing by the standard deviation."
   ]
  },
  {
   "cell_type": "code",
   "execution_count": 9,
   "metadata": {
    "button": false,
    "deletable": true,
    "new_sheet": false,
    "run_control": {
     "read_only": false
    }
   },
   "outputs": [
    {
     "data": {
      "text/html": [
       "<div>\n",
       "<style scoped>\n",
       "    .dataframe tbody tr th:only-of-type {\n",
       "        vertical-align: middle;\n",
       "    }\n",
       "\n",
       "    .dataframe tbody tr th {\n",
       "        vertical-align: top;\n",
       "    }\n",
       "\n",
       "    .dataframe thead th {\n",
       "        text-align: right;\n",
       "    }\n",
       "</style>\n",
       "<table border=\"1\" class=\"dataframe\">\n",
       "  <thead>\n",
       "    <tr style=\"text-align: right;\">\n",
       "      <th></th>\n",
       "      <th>Cement</th>\n",
       "      <th>Blast Furnace Slag</th>\n",
       "      <th>Fly Ash</th>\n",
       "      <th>Water</th>\n",
       "      <th>Superplasticizer</th>\n",
       "      <th>Coarse Aggregate</th>\n",
       "      <th>Fine Aggregate</th>\n",
       "      <th>Age</th>\n",
       "    </tr>\n",
       "  </thead>\n",
       "  <tbody>\n",
       "    <tr>\n",
       "      <th>0</th>\n",
       "      <td>2.476712</td>\n",
       "      <td>-0.856472</td>\n",
       "      <td>-0.846733</td>\n",
       "      <td>-0.916319</td>\n",
       "      <td>-0.620147</td>\n",
       "      <td>0.862735</td>\n",
       "      <td>-1.217079</td>\n",
       "      <td>-0.279597</td>\n",
       "    </tr>\n",
       "    <tr>\n",
       "      <th>1</th>\n",
       "      <td>2.476712</td>\n",
       "      <td>-0.856472</td>\n",
       "      <td>-0.846733</td>\n",
       "      <td>-0.916319</td>\n",
       "      <td>-0.620147</td>\n",
       "      <td>1.055651</td>\n",
       "      <td>-1.217079</td>\n",
       "      <td>-0.279597</td>\n",
       "    </tr>\n",
       "    <tr>\n",
       "      <th>2</th>\n",
       "      <td>0.491187</td>\n",
       "      <td>0.795140</td>\n",
       "      <td>-0.846733</td>\n",
       "      <td>2.174405</td>\n",
       "      <td>-1.038638</td>\n",
       "      <td>-0.526262</td>\n",
       "      <td>-2.239829</td>\n",
       "      <td>3.551340</td>\n",
       "    </tr>\n",
       "    <tr>\n",
       "      <th>3</th>\n",
       "      <td>0.491187</td>\n",
       "      <td>0.795140</td>\n",
       "      <td>-0.846733</td>\n",
       "      <td>2.174405</td>\n",
       "      <td>-1.038638</td>\n",
       "      <td>-0.526262</td>\n",
       "      <td>-2.239829</td>\n",
       "      <td>5.055221</td>\n",
       "    </tr>\n",
       "    <tr>\n",
       "      <th>4</th>\n",
       "      <td>-0.790075</td>\n",
       "      <td>0.678079</td>\n",
       "      <td>-0.846733</td>\n",
       "      <td>0.488555</td>\n",
       "      <td>-1.038638</td>\n",
       "      <td>0.070492</td>\n",
       "      <td>0.647569</td>\n",
       "      <td>4.976069</td>\n",
       "    </tr>\n",
       "  </tbody>\n",
       "</table>\n",
       "</div>"
      ],
      "text/plain": [
       "     Cement  Blast Furnace Slag   Fly Ash     Water  Superplasticizer  \\\n",
       "0  2.476712           -0.856472 -0.846733 -0.916319         -0.620147   \n",
       "1  2.476712           -0.856472 -0.846733 -0.916319         -0.620147   \n",
       "2  0.491187            0.795140 -0.846733  2.174405         -1.038638   \n",
       "3  0.491187            0.795140 -0.846733  2.174405         -1.038638   \n",
       "4 -0.790075            0.678079 -0.846733  0.488555         -1.038638   \n",
       "\n",
       "   Coarse Aggregate  Fine Aggregate       Age  \n",
       "0          0.862735       -1.217079 -0.279597  \n",
       "1          1.055651       -1.217079 -0.279597  \n",
       "2         -0.526262       -2.239829  3.551340  \n",
       "3         -0.526262       -2.239829  5.055221  \n",
       "4          0.070492        0.647569  4.976069  "
      ]
     },
     "execution_count": 9,
     "metadata": {},
     "output_type": "execute_result"
    }
   ],
   "source": [
    "predictors_norm = (predictors - predictors.mean()) / predictors.std()\n",
    "predictors_norm.head()"
   ]
  },
  {
   "cell_type": "markdown",
   "metadata": {},
   "source": [
    "Let's save the number of predictors to *n_cols* since we will need this number when building our network."
   ]
  },
  {
   "cell_type": "code",
   "execution_count": 11,
   "metadata": {
    "button": false,
    "deletable": true,
    "new_sheet": false,
    "run_control": {
     "read_only": false
    }
   },
   "outputs": [
    {
     "data": {
      "text/plain": [
       "8"
      ]
     },
     "execution_count": 11,
     "metadata": {},
     "output_type": "execute_result"
    }
   ],
   "source": [
    "n_cols = predictors_norm.shape[1] # number of predictors\n",
    "n_cols"
   ]
  },
  {
   "cell_type": "markdown",
   "metadata": {
    "button": false,
    "deletable": true,
    "new_sheet": false,
    "run_control": {
     "read_only": false
    }
   },
   "source": [
    "<a id=\"item1\"></a>"
   ]
  },
  {
   "cell_type": "markdown",
   "metadata": {},
   "source": [
    "<a id='item32'></a>"
   ]
  },
  {
   "cell_type": "markdown",
   "metadata": {
    "button": false,
    "deletable": true,
    "new_sheet": false,
    "run_control": {
     "read_only": false
    }
   },
   "source": [
    "## Import Keras"
   ]
  },
  {
   "cell_type": "markdown",
   "metadata": {
    "button": false,
    "deletable": true,
    "new_sheet": false,
    "run_control": {
     "read_only": false
    }
   },
   "source": [
    "Recall from the videos that Keras normally runs on top of a low-level library such as TensorFlow. This means that to be able to use the Keras library, you will have to install TensorFlow first and when you import the Keras library, it will be explicitly displayed what backend was used to install the Keras library. In CC Labs, we used TensorFlow as the backend to install Keras, so it should clearly print that when we import Keras."
   ]
  },
  {
   "cell_type": "markdown",
   "metadata": {
    "button": false,
    "deletable": true,
    "new_sheet": false,
    "run_control": {
     "read_only": false
    }
   },
   "source": [
    "#### Let's go ahead and import the Keras library"
   ]
  },
  {
   "cell_type": "code",
   "execution_count": 12,
   "metadata": {
    "button": false,
    "deletable": true,
    "new_sheet": false,
    "run_control": {
     "read_only": false
    }
   },
   "outputs": [
    {
     "name": "stderr",
     "output_type": "stream",
     "text": [
      "Using TensorFlow backend.\n",
      "/home/jupyterlab/conda/envs/python/lib/python3.6/site-packages/tensorflow/python/framework/dtypes.py:519: FutureWarning: Passing (type, 1) or '1type' as a synonym of type is deprecated; in a future version of numpy, it will be understood as (type, (1,)) / '(1,)type'.\n",
      "  _np_qint8 = np.dtype([(\"qint8\", np.int8, 1)])\n",
      "/home/jupyterlab/conda/envs/python/lib/python3.6/site-packages/tensorflow/python/framework/dtypes.py:520: FutureWarning: Passing (type, 1) or '1type' as a synonym of type is deprecated; in a future version of numpy, it will be understood as (type, (1,)) / '(1,)type'.\n",
      "  _np_quint8 = np.dtype([(\"quint8\", np.uint8, 1)])\n",
      "/home/jupyterlab/conda/envs/python/lib/python3.6/site-packages/tensorflow/python/framework/dtypes.py:521: FutureWarning: Passing (type, 1) or '1type' as a synonym of type is deprecated; in a future version of numpy, it will be understood as (type, (1,)) / '(1,)type'.\n",
      "  _np_qint16 = np.dtype([(\"qint16\", np.int16, 1)])\n",
      "/home/jupyterlab/conda/envs/python/lib/python3.6/site-packages/tensorflow/python/framework/dtypes.py:522: FutureWarning: Passing (type, 1) or '1type' as a synonym of type is deprecated; in a future version of numpy, it will be understood as (type, (1,)) / '(1,)type'.\n",
      "  _np_quint16 = np.dtype([(\"quint16\", np.uint16, 1)])\n",
      "/home/jupyterlab/conda/envs/python/lib/python3.6/site-packages/tensorflow/python/framework/dtypes.py:523: FutureWarning: Passing (type, 1) or '1type' as a synonym of type is deprecated; in a future version of numpy, it will be understood as (type, (1,)) / '(1,)type'.\n",
      "  _np_qint32 = np.dtype([(\"qint32\", np.int32, 1)])\n",
      "/home/jupyterlab/conda/envs/python/lib/python3.6/site-packages/tensorflow/python/framework/dtypes.py:528: FutureWarning: Passing (type, 1) or '1type' as a synonym of type is deprecated; in a future version of numpy, it will be understood as (type, (1,)) / '(1,)type'.\n",
      "  np_resource = np.dtype([(\"resource\", np.ubyte, 1)])\n"
     ]
    }
   ],
   "source": [
    "import keras"
   ]
  },
  {
   "cell_type": "markdown",
   "metadata": {
    "button": false,
    "deletable": true,
    "new_sheet": false,
    "run_control": {
     "read_only": false
    }
   },
   "source": [
    "As you can see, the TensorFlow backend was used to install the Keras library."
   ]
  },
  {
   "cell_type": "markdown",
   "metadata": {
    "button": false,
    "deletable": true,
    "new_sheet": false,
    "run_control": {
     "read_only": false
    }
   },
   "source": [
    "Let's import the rest of the packages from the Keras library that we will need to build our regressoin model."
   ]
  },
  {
   "cell_type": "code",
   "execution_count": 13,
   "metadata": {
    "button": false,
    "deletable": true,
    "new_sheet": false,
    "run_control": {
     "read_only": false
    }
   },
   "outputs": [],
   "source": [
    "from keras.models import Sequential\n",
    "from keras.layers import Dense"
   ]
  },
  {
   "cell_type": "markdown",
   "metadata": {},
   "source": [
    "<a id='item33'></a>"
   ]
  },
  {
   "cell_type": "markdown",
   "metadata": {
    "button": false,
    "deletable": true,
    "new_sheet": false,
    "run_control": {
     "read_only": false
    }
   },
   "source": [
    "## Build a Neural Network"
   ]
  },
  {
   "cell_type": "markdown",
   "metadata": {
    "button": false,
    "deletable": true,
    "new_sheet": false,
    "run_control": {
     "read_only": false
    }
   },
   "source": [
    "Let's define a function that defines our regression model for us so that we can conveniently call it to create our model."
   ]
  },
  {
   "cell_type": "code",
   "execution_count": 19,
   "metadata": {
    "button": false,
    "deletable": true,
    "new_sheet": false,
    "run_control": {
     "read_only": false
    }
   },
   "outputs": [],
   "source": [
    "# define regression model\n",
    "def regression_model():\n",
    "    # create model\n",
    "    model = Sequential()\n",
    "    model.add(Dense(50, activation='relu', input_shape=(n_cols,)))\n",
    "    model.add(Dense(50, activation='relu'))\n",
    "    model.add(Dense(1))\n",
    "    \n",
    "    # compile model\n",
    "    model.compile(optimizer='adam', loss='mean_squared_error')\n",
    "    return model"
   ]
  },
  {
   "cell_type": "markdown",
   "metadata": {},
   "source": [
    "The above function create a model that has two hidden layers, each of 50 hidden units."
   ]
  },
  {
   "cell_type": "markdown",
   "metadata": {
    "button": false,
    "deletable": true,
    "new_sheet": false,
    "run_control": {
     "read_only": false
    }
   },
   "source": [
    "<a id=\"item4\"></a>"
   ]
  },
  {
   "cell_type": "markdown",
   "metadata": {},
   "source": [
    "<a id='item34'></a>"
   ]
  },
  {
   "cell_type": "markdown",
   "metadata": {
    "button": false,
    "deletable": true,
    "new_sheet": false,
    "run_control": {
     "read_only": false
    }
   },
   "source": [
    "## Train and Test the Network"
   ]
  },
  {
   "cell_type": "markdown",
   "metadata": {},
   "source": [
    "Let's call the function now to create our model."
   ]
  },
  {
   "cell_type": "code",
   "execution_count": 20,
   "metadata": {
    "button": false,
    "deletable": true,
    "new_sheet": false,
    "run_control": {
     "read_only": false
    }
   },
   "outputs": [],
   "source": [
    "# build the model\n",
    "model = regression_model()"
   ]
  },
  {
   "cell_type": "markdown",
   "metadata": {},
   "source": [
    "Next, we will train and test the model at the same time using the *fit* method. We will leave out 30% of the data for validation and we will train the model for 100 epochs."
   ]
  },
  {
   "cell_type": "code",
   "execution_count": 21,
   "metadata": {},
   "outputs": [
    {
     "name": "stdout",
     "output_type": "stream",
     "text": [
      "Train on 721 samples, validate on 309 samples\n",
      "Epoch 1/200\n",
      " - 1s - loss: 1486.9956 - val_loss: 744.9286\n",
      "Epoch 2/200\n",
      " - 0s - loss: 535.7971 - val_loss: 258.7532\n",
      "Epoch 3/200\n",
      " - 0s - loss: 257.5686 - val_loss: 195.9245\n",
      "Epoch 4/200\n",
      " - 0s - loss: 206.4439 - val_loss: 200.1735\n",
      "Epoch 5/200\n",
      " - 0s - loss: 189.9149 - val_loss: 186.6892\n",
      "Epoch 6/200\n",
      " - 0s - loss: 180.8792 - val_loss: 186.1273\n",
      "Epoch 7/200\n",
      " - 0s - loss: 163.3532 - val_loss: 180.8820\n",
      "Epoch 8/200\n",
      " - 0s - loss: 155.5496 - val_loss: 196.2046\n",
      "Epoch 9/200\n",
      " - 0s - loss: 143.1907 - val_loss: 180.0612\n",
      "Epoch 10/200\n",
      " - 0s - loss: 130.0839 - val_loss: 197.4554\n",
      "Epoch 11/200\n",
      " - 0s - loss: 118.9624 - val_loss: 189.2892\n",
      "Epoch 12/200\n",
      " - 0s - loss: 108.8528 - val_loss: 189.6612\n",
      "Epoch 13/200\n",
      " - 0s - loss: 95.5116 - val_loss: 197.3075\n",
      "Epoch 14/200\n",
      " - 0s - loss: 84.1670 - val_loss: 198.2224\n",
      "Epoch 15/200\n",
      " - 0s - loss: 74.3109 - val_loss: 211.8944\n",
      "Epoch 16/200\n",
      " - 0s - loss: 67.6162 - val_loss: 233.7192\n",
      "Epoch 17/200\n",
      " - 0s - loss: 60.0601 - val_loss: 199.9874\n",
      "Epoch 18/200\n",
      " - 0s - loss: 53.7721 - val_loss: 209.0985\n",
      "Epoch 19/200\n",
      " - 0s - loss: 51.1938 - val_loss: 186.1613\n",
      "Epoch 20/200\n",
      " - 0s - loss: 47.9720 - val_loss: 207.4771\n",
      "Epoch 21/200\n",
      " - 0s - loss: 44.8199 - val_loss: 170.1494\n",
      "Epoch 22/200\n",
      " - 0s - loss: 42.1138 - val_loss: 173.0527\n",
      "Epoch 23/200\n",
      " - 0s - loss: 40.5557 - val_loss: 190.5142\n",
      "Epoch 24/200\n",
      " - 0s - loss: 38.8829 - val_loss: 169.4978\n",
      "Epoch 25/200\n",
      " - 0s - loss: 37.9901 - val_loss: 174.9974\n",
      "Epoch 26/200\n",
      " - 0s - loss: 35.8826 - val_loss: 169.5722\n",
      "Epoch 27/200\n",
      " - 0s - loss: 33.3764 - val_loss: 166.1001\n",
      "Epoch 28/200\n",
      " - 0s - loss: 32.2162 - val_loss: 176.6405\n",
      "Epoch 29/200\n",
      " - 0s - loss: 31.5374 - val_loss: 164.0950\n",
      "Epoch 30/200\n",
      " - 0s - loss: 30.5818 - val_loss: 159.2806\n",
      "Epoch 31/200\n",
      " - 0s - loss: 31.9353 - val_loss: 130.3526\n",
      "Epoch 32/200\n",
      " - 0s - loss: 29.7040 - val_loss: 173.5220\n",
      "Epoch 33/200\n",
      " - 0s - loss: 27.0360 - val_loss: 161.7950\n",
      "Epoch 34/200\n",
      " - 0s - loss: 26.6638 - val_loss: 178.2971\n",
      "Epoch 35/200\n",
      " - 0s - loss: 26.0844 - val_loss: 160.3954\n",
      "Epoch 36/200\n",
      " - 0s - loss: 24.5682 - val_loss: 133.0952\n",
      "Epoch 37/200\n",
      " - 0s - loss: 24.3361 - val_loss: 149.8576\n",
      "Epoch 38/200\n",
      " - 0s - loss: 23.5665 - val_loss: 188.2235\n",
      "Epoch 39/200\n",
      " - 0s - loss: 24.7975 - val_loss: 142.7843\n",
      "Epoch 40/200\n",
      " - 0s - loss: 22.8756 - val_loss: 140.2755\n",
      "Epoch 41/200\n",
      " - 0s - loss: 22.9960 - val_loss: 136.0990\n",
      "Epoch 42/200\n",
      " - 0s - loss: 22.1697 - val_loss: 160.9541\n",
      "Epoch 43/200\n",
      " - 0s - loss: 22.3376 - val_loss: 154.3556\n",
      "Epoch 44/200\n",
      " - 0s - loss: 21.2354 - val_loss: 162.3472\n",
      "Epoch 45/200\n",
      " - 0s - loss: 21.4260 - val_loss: 168.8729\n",
      "Epoch 46/200\n",
      " - 0s - loss: 21.1713 - val_loss: 141.6828\n",
      "Epoch 47/200\n",
      " - 0s - loss: 19.4123 - val_loss: 147.4112\n",
      "Epoch 48/200\n",
      " - 0s - loss: 18.5506 - val_loss: 136.5573\n",
      "Epoch 49/200\n",
      " - 0s - loss: 18.9290 - val_loss: 166.1586\n",
      "Epoch 50/200\n",
      " - 0s - loss: 19.0208 - val_loss: 121.9855\n",
      "Epoch 51/200\n",
      " - 0s - loss: 19.1628 - val_loss: 113.4367\n",
      "Epoch 52/200\n",
      " - 1s - loss: 21.5688 - val_loss: 204.5594\n",
      "Epoch 53/200\n",
      " - 0s - loss: 21.9663 - val_loss: 126.7990\n",
      "Epoch 54/200\n",
      " - 0s - loss: 18.0200 - val_loss: 137.6698\n",
      "Epoch 55/200\n",
      " - 0s - loss: 16.7794 - val_loss: 143.4426\n",
      "Epoch 56/200\n",
      " - 0s - loss: 16.8412 - val_loss: 131.9379\n",
      "Epoch 57/200\n",
      " - 0s - loss: 17.4663 - val_loss: 115.6036\n",
      "Epoch 58/200\n",
      " - 0s - loss: 17.9961 - val_loss: 156.1390\n",
      "Epoch 59/200\n",
      " - 0s - loss: 17.9307 - val_loss: 142.6537\n",
      "Epoch 60/200\n",
      " - 0s - loss: 16.4928 - val_loss: 135.1492\n",
      "Epoch 61/200\n",
      " - 0s - loss: 17.8599 - val_loss: 147.6191\n",
      "Epoch 62/200\n",
      " - 0s - loss: 17.9240 - val_loss: 110.4483\n",
      "Epoch 63/200\n",
      " - 0s - loss: 15.7035 - val_loss: 145.9412\n",
      "Epoch 64/200\n",
      " - 0s - loss: 15.7327 - val_loss: 136.5826\n",
      "Epoch 65/200\n",
      " - 1s - loss: 15.9564 - val_loss: 133.7161\n",
      "Epoch 66/200\n",
      " - 0s - loss: 15.4487 - val_loss: 137.6017\n",
      "Epoch 67/200\n",
      " - 0s - loss: 16.3806 - val_loss: 143.2115\n",
      "Epoch 68/200\n",
      " - 0s - loss: 16.6140 - val_loss: 133.8258\n",
      "Epoch 69/200\n",
      " - 0s - loss: 16.1014 - val_loss: 138.8989\n",
      "Epoch 70/200\n",
      " - 0s - loss: 14.6052 - val_loss: 109.1287\n",
      "Epoch 71/200\n",
      " - 0s - loss: 15.7219 - val_loss: 120.2014\n",
      "Epoch 72/200\n",
      " - 0s - loss: 15.1702 - val_loss: 140.4385\n",
      "Epoch 73/200\n",
      " - 0s - loss: 14.9266 - val_loss: 125.7435\n",
      "Epoch 74/200\n",
      " - 0s - loss: 13.9206 - val_loss: 136.6077\n",
      "Epoch 75/200\n",
      " - 0s - loss: 14.0178 - val_loss: 134.4837\n",
      "Epoch 76/200\n",
      " - 0s - loss: 14.0638 - val_loss: 121.4909\n",
      "Epoch 77/200\n",
      " - 0s - loss: 14.5871 - val_loss: 141.3335\n",
      "Epoch 78/200\n",
      " - 0s - loss: 13.4264 - val_loss: 113.6567\n",
      "Epoch 79/200\n",
      " - 0s - loss: 13.7684 - val_loss: 115.3820\n",
      "Epoch 80/200\n",
      " - 0s - loss: 14.3457 - val_loss: 117.8303\n",
      "Epoch 81/200\n",
      " - 0s - loss: 14.7973 - val_loss: 152.2201\n",
      "Epoch 82/200\n",
      " - 0s - loss: 15.6706 - val_loss: 147.8431\n",
      "Epoch 83/200\n",
      " - 0s - loss: 13.6433 - val_loss: 102.8291\n",
      "Epoch 84/200\n",
      " - 0s - loss: 14.4626 - val_loss: 126.9589\n",
      "Epoch 85/200\n",
      " - 0s - loss: 13.5457 - val_loss: 120.9885\n",
      "Epoch 86/200\n",
      " - 0s - loss: 13.6127 - val_loss: 117.8879\n",
      "Epoch 87/200\n",
      " - 0s - loss: 13.2501 - val_loss: 138.6865\n",
      "Epoch 88/200\n",
      " - 0s - loss: 13.2844 - val_loss: 133.5040\n",
      "Epoch 89/200\n",
      " - 0s - loss: 13.1611 - val_loss: 119.5380\n",
      "Epoch 90/200\n",
      " - 0s - loss: 12.9507 - val_loss: 125.3657\n",
      "Epoch 91/200\n",
      " - 0s - loss: 15.4380 - val_loss: 103.5067\n",
      "Epoch 92/200\n",
      " - 0s - loss: 12.7814 - val_loss: 128.3689\n",
      "Epoch 93/200\n",
      " - 0s - loss: 12.1577 - val_loss: 108.5601\n",
      "Epoch 94/200\n",
      " - 0s - loss: 12.4519 - val_loss: 125.2867\n",
      "Epoch 95/200\n",
      " - 1s - loss: 12.1547 - val_loss: 102.8347\n",
      "Epoch 96/200\n",
      " - 1s - loss: 12.7501 - val_loss: 127.7514\n",
      "Epoch 97/200\n",
      " - 1s - loss: 13.0013 - val_loss: 116.6007\n",
      "Epoch 98/200\n",
      " - 0s - loss: 11.9134 - val_loss: 133.0229\n",
      "Epoch 99/200\n",
      " - 0s - loss: 11.7402 - val_loss: 121.6462\n",
      "Epoch 100/200\n",
      " - 0s - loss: 12.0642 - val_loss: 131.8641\n",
      "Epoch 101/200\n",
      " - 0s - loss: 12.7484 - val_loss: 110.5690\n",
      "Epoch 102/200\n",
      " - 0s - loss: 11.8238 - val_loss: 135.5370\n",
      "Epoch 103/200\n",
      " - 0s - loss: 12.7801 - val_loss: 129.5727\n",
      "Epoch 104/200\n",
      " - 0s - loss: 11.5770 - val_loss: 104.8913\n",
      "Epoch 105/200\n",
      " - 0s - loss: 12.1185 - val_loss: 117.5188\n",
      "Epoch 106/200\n",
      " - 1s - loss: 11.1085 - val_loss: 117.7381\n",
      "Epoch 107/200\n",
      " - 0s - loss: 12.6024 - val_loss: 110.9439\n",
      "Epoch 108/200\n",
      " - 0s - loss: 13.4101 - val_loss: 103.9814\n",
      "Epoch 109/200\n",
      " - 0s - loss: 14.2758 - val_loss: 102.5176\n",
      "Epoch 110/200\n",
      " - 0s - loss: 15.2726 - val_loss: 114.1555\n",
      "Epoch 111/200\n",
      " - 0s - loss: 11.4978 - val_loss: 109.9234\n",
      "Epoch 112/200\n",
      " - 0s - loss: 12.0905 - val_loss: 140.9848\n",
      "Epoch 113/200\n",
      " - 0s - loss: 11.9294 - val_loss: 130.6077\n",
      "Epoch 114/200\n",
      " - 0s - loss: 10.6511 - val_loss: 146.4419\n",
      "Epoch 115/200\n",
      " - 0s - loss: 11.2697 - val_loss: 113.2069\n",
      "Epoch 116/200\n",
      " - 0s - loss: 11.5783 - val_loss: 105.2521\n",
      "Epoch 117/200\n",
      " - 0s - loss: 11.6710 - val_loss: 127.3224\n",
      "Epoch 118/200\n",
      " - 0s - loss: 10.5237 - val_loss: 147.5963\n",
      "Epoch 119/200\n",
      " - 0s - loss: 10.7424 - val_loss: 111.6955\n",
      "Epoch 120/200\n",
      " - 0s - loss: 10.5703 - val_loss: 125.9747\n",
      "Epoch 121/200\n",
      " - 0s - loss: 10.5956 - val_loss: 131.4732\n",
      "Epoch 122/200\n",
      " - 0s - loss: 10.4853 - val_loss: 120.9263\n",
      "Epoch 123/200\n",
      " - 0s - loss: 10.2321 - val_loss: 123.9803\n",
      "Epoch 124/200\n",
      " - 0s - loss: 10.4650 - val_loss: 162.5525\n",
      "Epoch 125/200\n",
      " - 0s - loss: 10.0100 - val_loss: 132.4816\n",
      "Epoch 126/200\n",
      " - 0s - loss: 10.8429 - val_loss: 121.2017\n",
      "Epoch 127/200\n",
      " - 0s - loss: 10.3376 - val_loss: 117.9237\n",
      "Epoch 128/200\n",
      " - 0s - loss: 11.4392 - val_loss: 107.2528\n",
      "Epoch 129/200\n",
      " - 0s - loss: 12.5416 - val_loss: 98.2549\n",
      "Epoch 130/200\n",
      " - 0s - loss: 11.1650 - val_loss: 127.4202\n",
      "Epoch 131/200\n",
      " - 0s - loss: 10.5179 - val_loss: 125.7216\n",
      "Epoch 132/200\n",
      " - 0s - loss: 10.5740 - val_loss: 126.5904\n",
      "Epoch 133/200\n",
      " - 0s - loss: 10.7850 - val_loss: 132.2270\n",
      "Epoch 134/200\n",
      " - 0s - loss: 10.6706 - val_loss: 125.4702\n",
      "Epoch 135/200\n",
      " - 0s - loss: 9.9122 - val_loss: 133.5321\n",
      "Epoch 136/200\n",
      " - 0s - loss: 10.2135 - val_loss: 127.6301\n",
      "Epoch 137/200\n",
      " - 0s - loss: 10.6436 - val_loss: 131.6798\n",
      "Epoch 138/200\n",
      " - 0s - loss: 10.6769 - val_loss: 136.2980\n",
      "Epoch 139/200\n",
      " - 0s - loss: 10.3820 - val_loss: 113.2644\n",
      "Epoch 140/200\n",
      " - 0s - loss: 11.3648 - val_loss: 132.5856\n",
      "Epoch 141/200\n",
      " - 0s - loss: 12.2341 - val_loss: 155.3932\n",
      "Epoch 142/200\n",
      " - 0s - loss: 10.3577 - val_loss: 129.1517\n",
      "Epoch 143/200\n",
      " - 0s - loss: 10.5845 - val_loss: 152.0453\n",
      "Epoch 144/200\n",
      " - 0s - loss: 9.7443 - val_loss: 135.4889\n",
      "Epoch 145/200\n",
      " - 0s - loss: 10.5889 - val_loss: 120.9286\n",
      "Epoch 146/200\n",
      " - 0s - loss: 10.3372 - val_loss: 135.5542\n",
      "Epoch 147/200\n",
      " - 0s - loss: 10.4358 - val_loss: 129.3013\n",
      "Epoch 148/200\n",
      " - 0s - loss: 10.5535 - val_loss: 136.2689\n",
      "Epoch 149/200\n",
      " - 0s - loss: 10.6477 - val_loss: 156.4035\n",
      "Epoch 150/200\n",
      " - 0s - loss: 9.7270 - val_loss: 143.9872\n",
      "Epoch 151/200\n",
      " - 0s - loss: 9.5515 - val_loss: 136.0702\n",
      "Epoch 152/200\n",
      " - 0s - loss: 9.8224 - val_loss: 131.1719\n",
      "Epoch 153/200\n",
      " - 0s - loss: 11.2310 - val_loss: 122.2593\n",
      "Epoch 154/200\n",
      " - 0s - loss: 9.6233 - val_loss: 132.4710\n",
      "Epoch 155/200\n",
      " - 0s - loss: 9.6716 - val_loss: 115.4685\n",
      "Epoch 156/200\n",
      " - 1s - loss: 10.2659 - val_loss: 117.6187\n",
      "Epoch 157/200\n",
      " - 1s - loss: 9.5965 - val_loss: 150.1649\n",
      "Epoch 158/200\n",
      " - 1s - loss: 11.2910 - val_loss: 166.8030\n",
      "Epoch 159/200\n",
      " - 1s - loss: 9.9020 - val_loss: 157.9719\n",
      "Epoch 160/200\n",
      " - 1s - loss: 9.2017 - val_loss: 148.0038\n",
      "Epoch 161/200\n",
      " - 1s - loss: 10.0394 - val_loss: 142.2921\n",
      "Epoch 162/200\n",
      " - 1s - loss: 11.9930 - val_loss: 120.9589\n",
      "Epoch 163/200\n",
      " - 0s - loss: 12.0042 - val_loss: 158.4964\n",
      "Epoch 164/200\n",
      " - 1s - loss: 9.8223 - val_loss: 124.9691\n",
      "Epoch 165/200\n",
      " - 1s - loss: 10.4110 - val_loss: 133.6107\n",
      "Epoch 166/200\n",
      " - 1s - loss: 9.6740 - val_loss: 124.0999\n",
      "Epoch 167/200\n",
      " - 1s - loss: 11.5755 - val_loss: 143.2979\n",
      "Epoch 168/200\n",
      " - 0s - loss: 10.0226 - val_loss: 154.9982\n",
      "Epoch 169/200\n",
      " - 0s - loss: 8.9438 - val_loss: 130.7584\n",
      "Epoch 170/200\n",
      " - 0s - loss: 9.1695 - val_loss: 125.8415\n",
      "Epoch 171/200\n",
      " - 0s - loss: 9.6668 - val_loss: 128.5006\n",
      "Epoch 172/200\n",
      " - 2s - loss: 9.7493 - val_loss: 130.8582\n",
      "Epoch 173/200\n",
      " - 0s - loss: 8.7205 - val_loss: 140.9272\n",
      "Epoch 174/200\n",
      " - 0s - loss: 8.6863 - val_loss: 135.4541\n",
      "Epoch 175/200\n",
      " - 0s - loss: 8.6085 - val_loss: 135.4280\n",
      "Epoch 176/200\n",
      " - 0s - loss: 9.6097 - val_loss: 134.0532\n",
      "Epoch 177/200\n",
      " - 0s - loss: 9.6629 - val_loss: 125.9906\n",
      "Epoch 178/200\n",
      " - 0s - loss: 9.5092 - val_loss: 138.2941\n",
      "Epoch 179/200\n",
      " - 0s - loss: 9.7123 - val_loss: 109.3813\n",
      "Epoch 180/200\n",
      " - 0s - loss: 11.2127 - val_loss: 116.8274\n",
      "Epoch 181/200\n",
      " - 0s - loss: 9.9117 - val_loss: 127.9706\n",
      "Epoch 182/200\n",
      " - 0s - loss: 8.3311 - val_loss: 161.5082\n",
      "Epoch 183/200\n",
      " - 0s - loss: 9.3026 - val_loss: 137.6767\n",
      "Epoch 184/200\n",
      " - 0s - loss: 8.5276 - val_loss: 132.8890\n",
      "Epoch 185/200\n",
      " - 0s - loss: 8.9987 - val_loss: 139.6314\n",
      "Epoch 186/200\n",
      " - 0s - loss: 8.7141 - val_loss: 139.8698\n",
      "Epoch 187/200\n",
      " - 0s - loss: 9.0994 - val_loss: 145.4019\n",
      "Epoch 188/200\n",
      " - 0s - loss: 10.1610 - val_loss: 154.4971\n",
      "Epoch 189/200\n",
      " - 0s - loss: 9.6639 - val_loss: 138.2917\n",
      "Epoch 190/200\n",
      " - 0s - loss: 8.2990 - val_loss: 131.7499\n",
      "Epoch 191/200\n",
      " - 0s - loss: 9.4482 - val_loss: 140.6392\n",
      "Epoch 192/200\n",
      " - 0s - loss: 9.2655 - val_loss: 178.0476\n",
      "Epoch 193/200\n",
      " - 0s - loss: 9.7435 - val_loss: 126.7424\n",
      "Epoch 194/200\n",
      " - 0s - loss: 8.7473 - val_loss: 126.8467\n",
      "Epoch 195/200\n",
      " - 0s - loss: 8.2180 - val_loss: 151.9826\n",
      "Epoch 196/200\n",
      " - 0s - loss: 8.5875 - val_loss: 135.2183\n",
      "Epoch 197/200\n",
      " - 0s - loss: 8.0291 - val_loss: 137.7222\n",
      "Epoch 198/200\n",
      " - 0s - loss: 8.4875 - val_loss: 133.4825\n",
      "Epoch 199/200\n",
      " - 0s - loss: 8.5134 - val_loss: 152.2506\n",
      "Epoch 200/200\n",
      " - 0s - loss: 8.2890 - val_loss: 144.8780\n"
     ]
    },
    {
     "data": {
      "text/plain": [
       "<keras.callbacks.History at 0x7f3f900f0710>"
      ]
     },
     "execution_count": 21,
     "metadata": {},
     "output_type": "execute_result"
    }
   ],
   "source": [
    "# fit the model\n",
    "model.fit(predictors_norm, target, validation_split=0.3, epochs=100, verbose=2)"
   ]
  },
  {
   "cell_type": "markdown",
   "metadata": {
    "button": false,
    "deletable": true,
    "new_sheet": false,
    "run_control": {
     "read_only": false
    }
   },
   "source": [
    "<strong>You can refer to this [link](https://keras.io/models/sequential/) to learn about other functions that you can use for prediction or evaluation.</strong>"
   ]
  },
  {
   "cell_type": "markdown",
   "metadata": {
    "button": false,
    "deletable": true,
    "new_sheet": false,
    "run_control": {
     "read_only": false
    }
   },
   "source": [
    "Feel free to vary the following and note what impact each change has on the model's performance:\n",
    "\n",
    "1. Increase or decreate number of neurons in hidden layers\n",
    "2. Add more hidden layers\n",
    "3. Increase number of epochs"
   ]
  },
  {
   "cell_type": "markdown",
   "metadata": {
    "button": false,
    "deletable": true,
    "new_sheet": false,
    "run_control": {
     "read_only": false
    }
   },
   "source": [
    "### Thank you for completing this lab!\n",
    "\n",
    "This notebook was created by [Alex Aklson](https://www.linkedin.com/in/aklson/). I hope you found this lab interesting and educational. Feel free to contact me if you have any questions!"
   ]
  },
  {
   "cell_type": "markdown",
   "metadata": {
    "button": false,
    "deletable": true,
    "new_sheet": false,
    "run_control": {
     "read_only": false
    }
   },
   "source": [
    "This notebook is part of a course on **Coursera** called *Introduction to Deep Learning & Neural Networks with Keras*. If you accessed this notebook outside the course, you can take this course online by clicking [here](https://cocl.us/DL0101EN_Coursera_Week3_LAB1)."
   ]
  },
  {
   "cell_type": "markdown",
   "metadata": {
    "button": false,
    "deletable": true,
    "new_sheet": false,
    "run_control": {
     "read_only": false
    }
   },
   "source": [
    "<hr>\n",
    "\n",
    "Copyright &copy; 2019 [IBM Developer Skills Network](https://cognitiveclass.ai/?utm_source=bducopyrightlink&utm_medium=dswb&utm_campaign=bdu). This notebook and its source code are released under the terms of the [MIT License](https://bigdatauniversity.com/mit-license/)."
   ]
  }
 ],
 "metadata": {
  "kernelspec": {
   "display_name": "Python",
   "language": "python",
   "name": "conda-env-python-py"
  },
  "language_info": {
   "codemirror_mode": {
    "name": "ipython",
    "version": 3
   },
   "file_extension": ".py",
   "mimetype": "text/x-python",
   "name": "python",
   "nbconvert_exporter": "python",
   "pygments_lexer": "ipython3",
   "version": "3.6.11"
  }
 },
 "nbformat": 4,
 "nbformat_minor": 4
}
